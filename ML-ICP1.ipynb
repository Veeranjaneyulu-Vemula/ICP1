{
  "nbformat": 4,
  "nbformat_minor": 0,
  "metadata": {
    "colab": {
      "provenance": []
    },
    "kernelspec": {
      "name": "python3",
      "display_name": "Python 3"
    },
    "language_info": {
      "name": "python"
    }
  },
  "cells": [
    {
      "cell_type": "code",
      "execution_count": 1,
      "metadata": {
        "colab": {
          "base_uri": "https://localhost:8080/"
        },
        "id": "t6wXnk8cNqTn",
        "outputId": "13d33b8a-62e7-465a-c1a5-97cc1cb7825a"
      },
      "outputs": [
        {
          "output_type": "stream",
          "name": "stdout",
          "text": [
            "Sorted ages: [19, 19, 19, 20, 22, 24, 24, 24, 25, 25, 26, 26]\n",
            "Min age: 19\n",
            "Max age: 26\n",
            "Median age: 24.0\n",
            "Average age: 22.75\n",
            "Range of ages: 7\n"
          ]
        }
      ],
      "source": [
        "# Given list of ages\n",
        "ages = [19, 22, 19, 24, 20, 25, 26, 24, 25, 24]\n",
        "\n",
        "# Sort the list and find the min and max age\n",
        "sorted_ages = sorted(ages)\n",
        "min_age = sorted_ages[0]\n",
        "max_age = sorted_ages[-1]\n",
        "\n",
        "# Add the min age and the max age again to the list\n",
        "ages.append(min_age)\n",
        "ages.append(max_age)\n",
        "\n",
        "# Re-sort the updated list\n",
        "sorted_ages = sorted(ages)\n",
        "\n",
        "# Find the median age\n",
        "n = len(sorted_ages)\n",
        "if n % 2 == 0:\n",
        "    median_age = (sorted_ages[n//2 - 1] + sorted_ages[n//2]) / 2\n",
        "else:\n",
        "    median_age = sorted_ages[n//2]\n",
        "\n",
        "# Find the average age\n",
        "average_age = sum(ages) / len(ages)\n",
        "\n",
        "# Find the range of the ages\n",
        "range_of_ages = max_age - min_age\n",
        "\n",
        "print(f\"Sorted ages: {sorted_ages}\")\n",
        "print(f\"Min age: {min_age}\")\n",
        "print(f\"Max age: {max_age}\")\n",
        "print(f\"Median age: {median_age}\")\n",
        "print(f\"Average age: {average_age}\")\n",
        "print(f\"Range of ages: {range_of_ages}\")\n"
      ]
    },
    {
      "cell_type": "code",
      "source": [
        "# Create an empty dictionary called dog\n",
        "dog = {}\n",
        "\n",
        "# Add name, color, breed, legs, age to the dog dictionary\n",
        "dog['name'] = 'Buddy'\n",
        "dog['color'] = 'Brown'\n",
        "dog['breed'] = 'Labrador'\n",
        "dog['legs'] = 4\n",
        "dog['age'] = 5\n",
        "\n",
        "# Create a student dictionary\n",
        "student = {\n",
        "    'first_name': 'John',\n",
        "    'last_name': 'Doe',\n",
        "    'gender': 'Male',\n",
        "    'age': 20,\n",
        "    'marital_status': 'Single',\n",
        "    'skills': ['Python', 'Java'],\n",
        "    'country': 'USA',\n",
        "    'city': 'New York',\n",
        "    'address': '123 Main St'\n",
        "}\n",
        "\n",
        "# Get the length of the student dictionary\n",
        "student_length = len(student)\n",
        "\n",
        "# Get the value of skills and check the data type\n",
        "skills = student['skills']\n",
        "skills_type = type(skills)\n",
        "\n",
        "# Modify the skills values by adding one or two skills\n",
        "student['skills'].append('C++')\n",
        "student['skills'].append('JavaScript')\n",
        "\n",
        "# Get the dictionary keys as a list\n",
        "student_keys = list(student.keys())\n",
        "\n",
        "# Get the dictionary values as a list\n",
        "student_values = list(student.values())\n",
        "\n",
        "print(f\"Dog dictionary: {dog}\")\n",
        "print(f\"Student dictionary: {student}\")\n",
        "print(f\"Length of student dictionary: {student_length}\")\n",
        "print(f\"Skills: {skills}, Type: {skills_type}\")\n",
        "print(f\"Student dictionary keys: {student_keys}\")\n",
        "print(f\"Student dictionary values: {student_values}\")\n",
        "\n"
      ],
      "metadata": {
        "colab": {
          "base_uri": "https://localhost:8080/"
        },
        "id": "rpYYlc8JN2qh",
        "outputId": "f92d92a0-0277-4855-92ce-222726307328"
      },
      "execution_count": 2,
      "outputs": [
        {
          "output_type": "stream",
          "name": "stdout",
          "text": [
            "Dog dictionary: {'name': 'Buddy', 'color': 'Brown', 'breed': 'Labrador', 'legs': 4, 'age': 5}\n",
            "Student dictionary: {'first_name': 'John', 'last_name': 'Doe', 'gender': 'Male', 'age': 20, 'marital_status': 'Single', 'skills': ['Python', 'Java', 'C++', 'JavaScript'], 'country': 'USA', 'city': 'New York', 'address': '123 Main St'}\n",
            "Length of student dictionary: 9\n",
            "Skills: ['Python', 'Java', 'C++', 'JavaScript'], Type: <class 'list'>\n",
            "Student dictionary keys: ['first_name', 'last_name', 'gender', 'age', 'marital_status', 'skills', 'country', 'city', 'address']\n",
            "Student dictionary values: ['John', 'Doe', 'Male', 20, 'Single', ['Python', 'Java', 'C++', 'JavaScript'], 'USA', 'New York', '123 Main St']\n"
          ]
        }
      ]
    },
    {
      "cell_type": "code",
      "source": [],
      "metadata": {
        "id": "oKaNEA7aOHnl"
      },
      "execution_count": null,
      "outputs": []
    },
    {
      "cell_type": "code",
      "source": [
        "# Create a tuple containing names of your sisters and brothers\n",
        "sisters = ('Anna', 'Beth')\n",
        "brothers = ('Chris', 'David')\n",
        "\n",
        "# Join brothers and sisters tuples and assign it to siblings\n",
        "siblings = sisters + brothers\n",
        "\n",
        "# Number of siblings\n",
        "num_siblings = len(siblings)\n",
        "\n",
        "# Modify the siblings tuple and add the name of your father and mother\n",
        "family_members = siblings + ('Father', 'Mother')\n",
        "\n",
        "print(f\"Siblings: {siblings}\")\n",
        "print(f\"Number of siblings: {num_siblings}\")\n",
        "print(f\"Family members: {family_members}\")\n"
      ],
      "metadata": {
        "colab": {
          "base_uri": "https://localhost:8080/"
        },
        "id": "GgWy2VZMOH1d",
        "outputId": "bce1984d-4693-41aa-93c2-a2d4cf4f1785"
      },
      "execution_count": 3,
      "outputs": [
        {
          "output_type": "stream",
          "name": "stdout",
          "text": [
            "Siblings: ('Anna', 'Beth', 'Chris', 'David')\n",
            "Number of siblings: 4\n",
            "Family members: ('Anna', 'Beth', 'Chris', 'David', 'Father', 'Mother')\n"
          ]
        }
      ]
    },
    {
      "cell_type": "code",
      "source": [
        "it_companies = {'Facebook', 'Google', 'Microsoft', 'Apple', 'IBM', 'Oracle', 'Amazon'}\n",
        "A = {19, 22, 24, 20, 25, 26}\n",
        "B = {19, 22, 20, 25, 26, 24, 28, 27}\n",
        "age = [22, 19, 24, 25, 26, 24, 25, 24]\n",
        "\n",
        "# Find the length of the set it_companies\n",
        "len_it_companies = len(it_companies)\n",
        "\n",
        "# Add 'Twitter' to it_companies\n",
        "it_companies.add('Twitter')\n",
        "\n",
        "# Insert multiple IT companies at once to the set it_companies\n",
        "it_companies.update(['SAP', 'Salesforce'])\n",
        "\n",
        "# Remove one of the companies from the set it_companies\n",
        "it_companies.remove('Oracle')\n",
        "\n",
        "# Difference between remove and discard\n",
        "# remove will raise an error if the item is not found\n",
        "# discard will not raise an error if the item is not found\n",
        "it_companies.discard('Oracle')  # This will not raise an error\n",
        "\n",
        "# Join A and B\n",
        "A_union_B = A.union(B)\n",
        "\n",
        "# Find A intersection B\n",
        "A_intersection_B = A.intersection(B)\n",
        "\n",
        "# Is A subset of B\n",
        "A_subset_B = A.issubset(B)\n",
        "\n",
        "# Are A and B disjoint sets\n",
        "A_B_disjoint = A.isdisjoint(B)\n",
        "\n",
        "# Join A with B and B with A (which is the same as union)\n",
        "A_union_B = A.union(B)\n",
        "B_union_A = B.union(A)\n",
        "\n",
        "# Symmetric difference between A and B\n",
        "A_sym_diff_B = A.symmetric_difference(B)\n",
        "\n",
        "# Delete the sets completely\n",
        "del A\n",
        "del B\n",
        "\n",
        "# Convert the ages to a set and compare the length of the list and the set\n",
        "ages_set = set(age)\n",
        "length_of_list = len(age)\n",
        "length_of_set = len(ages_set)\n",
        "\n",
        "print(f\"Length of it_companies: {len_it_companies}\")\n",
        "print(f\"it_companies after adding Twitter and removing Oracle: {it_companies}\")\n",
        "print(f\"Union of A and B: {A_union_B}\")\n",
        "print(f\"Intersection of A and B: {A_intersection_B}\")\n",
        "print(f\"Is A subset of B: {A_subset_B}\")\n",
        "print(f\"Are A and B disjoint sets: {A_B_disjoint}\")\n",
        "print(f\"Symmetric difference between A and B: {A_sym_diff_B}\")\n",
        "print(f\"Length of the list: {length_of_list}\")\n",
        "print(f\"Length of the set: {length_of_set}\")\n"
      ],
      "metadata": {
        "colab": {
          "base_uri": "https://localhost:8080/"
        },
        "id": "uo9PnFPQOOiw",
        "outputId": "15800b50-1f4e-4904-b6d9-107bcc2b737b"
      },
      "execution_count": 4,
      "outputs": [
        {
          "output_type": "stream",
          "name": "stdout",
          "text": [
            "Length of it_companies: 7\n",
            "it_companies after adding Twitter and removing Oracle: {'IBM', 'Amazon', 'Apple', 'Twitter', 'Google', 'Microsoft', 'SAP', 'Salesforce', 'Facebook'}\n",
            "Union of A and B: {19, 20, 22, 24, 25, 26, 27, 28}\n",
            "Intersection of A and B: {19, 20, 22, 24, 25, 26}\n",
            "Is A subset of B: True\n",
            "Are A and B disjoint sets: False\n",
            "Symmetric difference between A and B: {27, 28}\n",
            "Length of the list: 8\n",
            "Length of the set: 5\n"
          ]
        }
      ]
    },
    {
      "cell_type": "code",
      "source": [
        "import math\n",
        "\n",
        "# Given radius\n",
        "radius = 30\n",
        "\n",
        "# Calculate the area of a circle\n",
        "_area_of_circle_ = math.pi * radius ** 2\n",
        "\n",
        "# Calculate the circumference of a circle\n",
        "_circum_of_circle_ = 2 * math.pi * radius\n",
        "\n",
        "print(f\"Area of circle: {_area_of_circle_}\")\n",
        "print(f\"Circumference of circle: {_circum_of_circle_}\")\n",
        "\n",
        "# Take radius as user input and calculate the area\n",
        "user_radius = float(input(\"Enter the radius: \"))\n",
        "user_area_of_circle = math.pi * user_radius ** 2\n",
        "print(f\"Area of circle with radius {user_radius}: {user_area_of_circle}\")\n"
      ],
      "metadata": {
        "colab": {
          "base_uri": "https://localhost:8080/"
        },
        "id": "MKxbZJLjOTwS",
        "outputId": "806c4aad-727f-4ee1-b0cf-9749628964e0"
      },
      "execution_count": 5,
      "outputs": [
        {
          "output_type": "stream",
          "name": "stdout",
          "text": [
            "Area of circle: 2827.4333882308138\n",
            "Circumference of circle: 188.49555921538757\n",
            "Enter the radius: 25\n",
            "Area of circle with radius 25.0: 1963.4954084936207\n"
          ]
        }
      ]
    },
    {
      "cell_type": "code",
      "source": [
        "sentence = \"I am a teacher and I love to inspire and teach people\"\n",
        "\n",
        "# Split the sentence into words and convert to set to get unique words\n",
        "unique_words = set(sentence.split())\n",
        "\n",
        "# Number of unique words\n",
        "num_unique_words = len(unique_words)\n",
        "\n",
        "print(f\"Unique words: {unique_words}\")\n",
        "print(f\"Number of unique words: {num_unique_words}\")\n"
      ],
      "metadata": {
        "colab": {
          "base_uri": "https://localhost:8080/"
        },
        "id": "qTZ0fF8oOeCE",
        "outputId": "afe25154-4f1d-47e4-a027-3ab347baef0b"
      },
      "execution_count": 6,
      "outputs": [
        {
          "output_type": "stream",
          "name": "stdout",
          "text": [
            "Unique words: {'teach', 'and', 'a', 'people', 'love', 'teacher', 'I', 'inspire', 'am', 'to'}\n",
            "Number of unique words: 10\n"
          ]
        }
      ]
    },
    {
      "cell_type": "code",
      "source": [
        "print(\"Name\\tAge\\tCountry\\tCity\")\n",
        "print(\"Asabeneh\\t250\\tFinland\\tHelsinki\")\n"
      ],
      "metadata": {
        "colab": {
          "base_uri": "https://localhost:8080/"
        },
        "id": "xUkm8rMpOkHL",
        "outputId": "42683a82-89d6-4154-84bb-ee415a570702"
      },
      "execution_count": 7,
      "outputs": [
        {
          "output_type": "stream",
          "name": "stdout",
          "text": [
            "Name\tAge\tCountry\tCity\n",
            "Asabeneh\t250\tFinland\tHelsinki\n"
          ]
        }
      ]
    },
    {
      "cell_type": "code",
      "source": [
        "radius = 10\n",
        "area = 3.14 * radius ** 2\n",
        "print(f\"The area of a circle with radius {radius} is {area} meters square.\")\n"
      ],
      "metadata": {
        "colab": {
          "base_uri": "https://localhost:8080/"
        },
        "id": "M4YV9oi5Opx_",
        "outputId": "d51b3456-87e4-46b4-d299-79a6587765a6"
      },
      "execution_count": 8,
      "outputs": [
        {
          "output_type": "stream",
          "name": "stdout",
          "text": [
            "The area of a circle with radius 10 is 314.0 meters square.\n"
          ]
        }
      ]
    },
    {
      "cell_type": "code",
      "source": [
        "# Read number of students\n",
        "N = int(input(\"Enter the number of students: \"))\n",
        "\n",
        "# Read weights in lbs into a list\n",
        "weights_lbs = []\n",
        "for i in range(N):\n",
        "    weight = float(input(f\"Enter weight of student {i+1} in lbs: \"))\n",
        "    weights_lbs.append(weight)\n",
        "\n",
        "# Convert weights to kilograms\n",
        "weights_kgs = [round(w * 0.453592, 2) for w in weights_lbs]\n",
        "\n",
        "print(f\"Weights in lbs: {weights_lbs}\")\n",
        "print(f\"Weights in kgs: {weights_kgs}\")\n"
      ],
      "metadata": {
        "colab": {
          "base_uri": "https://localhost:8080/"
        },
        "id": "MlN8akZoOwFI",
        "outputId": "2a3dee62-fa4b-4ceb-dc9e-aa1bfa8891d3"
      },
      "execution_count": 9,
      "outputs": [
        {
          "output_type": "stream",
          "name": "stdout",
          "text": [
            "Enter the number of students: 5\n",
            "Enter weight of student 1 in lbs: 155\n",
            "Enter weight of student 2 in lbs: 145\n",
            "Enter weight of student 3 in lbs: 148\n",
            "Enter weight of student 4 in lbs: 160\n",
            "Enter weight of student 5 in lbs: 152\n",
            "Weights in lbs: [155.0, 145.0, 148.0, 160.0, 152.0]\n",
            "Weights in kgs: [70.31, 65.77, 67.13, 72.57, 68.95]\n"
          ]
        }
      ]
    }
  ]
}